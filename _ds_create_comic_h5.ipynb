{
 "cells": [
  {
   "cell_type": "code",
   "execution_count": 11,
   "metadata": {},
   "outputs": [
    {
     "ename": "",
     "evalue": "",
     "output_type": "error",
     "traceback": [
      "\u001b[1;31mFailed to start the Kernel. \n",
      "\u001b[1;31mUnable to start Kernel 'venv (Python 3.11.9)' due to a timeout waiting for the ports to get used. \n",
      "\u001b[1;31mView Jupyter <a href='command:jupyter.viewOutput'>log</a> for further details."
     ]
    }
   ],
   "source": [
    "import h5py\n",
    "import os\n",
    "import cv2\n",
    "import numpy as np\n",
    "import matplotlib.pyplot as plt\n",
    "from tqdm import tqdm\n",
    "\n",
    "\n",
    "clean_img_dir = \"../tmp/no_wm\"\n",
    "img_paths = os.listdir(clean_img_dir)\n",
    "\n",
    "print(len(img_paths))\n",
    "\n",
    "n_train = int(len(img_paths) * 0.8)"
   ]
  },
  {
   "cell_type": "code",
   "execution_count": 12,
   "metadata": {},
   "outputs": [
    {
     "name": "stderr",
     "output_type": "stream",
     "text": [
      "100%|██████████| 1674/1674 [31:49<00:00,  1.14s/it]  \n"
     ]
    }
   ],
   "source": [
    "with h5py.File(\"tmp/train.h5\", \"w\") as h5f:\n",
    "    train_num = 0\n",
    "    for file in tqdm(img_paths[:n_train]):\n",
    "        if file.endswith(\".png\"):\n",
    "            img = cv2.imread(os.path.join(clean_img_dir, file))\n",
    "            img = np.transpose(img, (2, 0, 1))\n",
    "            # if width or height < 256 -> padding\n",
    "            if img.shape[1] < 256:\n",
    "                # padding to 256\n",
    "                pad_width = 256 - img.shape[1]\n",
    "                _img = np.zeros((img.shape[0], 256, img.shape[2]))\n",
    "                _img[:, :img.shape[1], :] = img\n",
    "                img = _img\n",
    "            if img.shape[2] < 256:\n",
    "                # padding to 256\n",
    "                pad_height = 256 - img.shape[2]\n",
    "                _img = np.zeros((img.shape[0], img.shape[1], 256))\n",
    "                _img[:, :, :img.shape[2]] = img\n",
    "                img = _img\n",
    "            # if width or height > 256 -> split into many images with overlap\n",
    "            if img.shape[1] > 256 or img.shape[2] > 256:\n",
    "                # split into many images with overlap\n",
    "                # width = height = 256, hop = ...\n",
    "                for i in range(0, img.shape[1] - 256 + 1, 128):\n",
    "                    for j in range(0, img.shape[2] - 256 + 1, 128):\n",
    "                        _img = img[:, i:i + 256, j:j + 256]\n",
    "                        # print(_img.shape)\n",
    "                        # plt.imshow(_img.transpose(1, 2, 0))\n",
    "                        # plt.show()\n",
    "                        h5f.create_dataset(str(train_num), data=_img)\n",
    "                        train_num += 1\n",
    "        # break"
   ]
  },
  {
   "cell_type": "code",
   "execution_count": 13,
   "metadata": {},
   "outputs": [
    {
     "data": {
      "text/plain": [
       "'BXOb1wTb019nCTPiAMm6_196_39.png'"
      ]
     },
     "execution_count": 13,
     "metadata": {},
     "output_type": "execute_result"
    }
   ],
   "source": [
    "img_paths[413]"
   ]
  },
  {
   "cell_type": "code",
   "execution_count": null,
   "metadata": {},
   "outputs": [
    {
     "ename": "",
     "evalue": "",
     "output_type": "error",
     "traceback": [
      "\u001b[1;31mFailed to start the Kernel. \n",
      "\u001b[1;31mUnable to start Kernel 'venv (Python 3.11.9)' due to a timeout waiting for the ports to get used. \n",
      "\u001b[1;31mView Jupyter <a href='command:jupyter.viewOutput'>log</a> for further details."
     ]
    }
   ],
   "source": [
    "with h5py.File(\"tmp/val.h5\", \"w\") as h5f:\n",
    "    val_num = 0\n",
    "    for file in tqdm(img_paths[n_train:]):\n",
    "        if file.endswith(\".png\"):\n",
    "            img = cv2.imread(os.path.join(clean_img_dir, file))\n",
    "            img = np.transpose(img, (2, 0, 1))\n",
    "            \n",
    "            h5f.create_dataset(str(val_num), data=img)\n",
    "            val_num += 1"
   ]
  }
 ],
 "metadata": {
  "kernelspec": {
   "display_name": "venv",
   "language": "python",
   "name": "python3"
  },
  "language_info": {
   "codemirror_mode": {
    "name": "ipython",
    "version": 3
   },
   "file_extension": ".py",
   "mimetype": "text/x-python",
   "name": "python",
   "nbconvert_exporter": "python",
   "pygments_lexer": "ipython3",
   "version": "3.11.9"
  }
 },
 "nbformat": 4,
 "nbformat_minor": 2
}
